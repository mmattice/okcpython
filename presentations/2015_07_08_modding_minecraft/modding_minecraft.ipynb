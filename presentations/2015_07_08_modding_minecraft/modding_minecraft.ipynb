{
 "cells": [
  {
   "cell_type": "markdown",
   "metadata": {
    "slideshow": {
     "slide_type": "slide"
    }
   },
   "source": [
    "# Modding Minecraft\n",
    "## Modding Python"
   ]
  },
  {
   "cell_type": "markdown",
   "metadata": {
    "slideshow": {
     "slide_type": "slide"
    }
   },
   "source": [
    "## Agenda\n",
    "\n",
    "https://github.com/tobynance/okcpython.git\n",
    "\n",
    "Found in **`presentations/2015_07_08_modding_minecraft`**\n",
    "\n",
    "* Getting Up and Running with CanaryMod\n",
    "* Floor of Dirt\n",
    "* Personal Bridge\n",
    "* Skating Rink\n",
    "* Build a House\n"
   ]
  },
  {
   "cell_type": "markdown",
   "metadata": {
    "slideshow": {
     "slide_type": "notes"
    }
   },
   "source": [
    "I want to thank Cody Piersall for introducting me to ipython/jupyter, and Aaron Krauss for providing an excellent demonstration of its use at last month's Ruby meetup."
   ]
  },
  {
   "cell_type": "markdown",
   "metadata": {
    "slideshow": {
     "slide_type": "slide"
    }
   },
   "source": [
    "## Installation\n",
    "<div style=\"float: right\">\n",
    "  ![Adventures In Minecraft](AdventuresInMinecraftCover.jpg)\n",
    "</div>\n",
    "\n",
    "Go to http://www.wiley.com/WileyCDA/Section/id-823690.html and download the **Starter Kit** for your platform (I used the Mac Starter Kit to run on Linux).  The **readme.txt** included will walk you through getting up and running.  It looks like **Bukkit** is currently battling a DMCA takedown, so I used **CanaryMod**.\n",
    "\n",
    "The major components you will need:\n",
    "\n",
    "* Minecraft (https://minecraft.net)\n",
    "* CanaryMod (http://canarymod.net/releases)\n",
    "* RaspberryJuice (https://github.com/martinohanlon/canaryraspberryjuice)"
   ]
  },
  {
   "cell_type": "markdown",
   "metadata": {
    "slideshow": {
     "slide_type": "notes"
    }
   },
   "source": [
    "There is a curious version of Minecraft written in Python for the Raspberry Pi.\n",
    "\n",
    "The API for it has been ported to the primary version of Minecraft in a project called **Raspberry Juice**.  We will be using this library, along with a custom server called **CanaryMod** for this presentation."
   ]
  },
  {
   "cell_type": "markdown",
   "metadata": {
    "slideshow": {
     "slide_type": "subslide"
    }
   },
   "source": [
    "![Not Found](not_found.png)"
   ]
  },
  {
   "cell_type": "markdown",
   "metadata": {
    "slideshow": {
     "slide_type": "subslide"
    }
   },
   "source": [
    "## Installation\n",
    "<div style=\"float: right\">\n",
    "  ![Adventures In Minecraft](AdventuresInMinecraftCover.jpg)\n",
    "</div>\n",
    "\n",
    "Go to http://www.wiley.com/WileyCDA/Section/id-823690.html and download the **Starter Kit** for your platform (I used the Mac Starter Kit to run on Linux).  The **readme.txt** included will walk you through getting up and running.  It looks like **Bukkit** is currently battling a DMCA takedown, so I used **CanaryMod**.\n",
    "\n",
    "The major components you will need:\n",
    "\n",
    "* Minecraft (https://minecraft.net)\n",
    "* <s>CanaryMod (http://canarymod.net/releases)</s> **(Down as of last night)**\n",
    "* RaspberryJuice (https://github.com/martinohanlon/canaryraspberryjuice)\n"
   ]
  },
  {
   "cell_type": "markdown",
   "metadata": {
    "slideshow": {
     "slide_type": "subslide"
    }
   },
   "source": [
    "## Installation\n",
    "\n",
    "* Minecraft (https://minecraft.net)\n",
    "* Download starter kit: http://www.wiley.com/WileyCDA/Section/id-823690.html\n",
    "\n",
    "<pre>\n",
    "\n",
    "cd Bukkit\n",
    "./start_server.command\n",
    "defaultgamemode creative\n",
    "op [username]\n",
    "\n",
    "<pre>"
   ]
  },
  {
   "cell_type": "markdown",
   "metadata": {
    "slideshow": {
     "slide_type": "slide"
    }
   },
   "source": [
    "### Connect to your local <s>CanaryMod</s> <span style=\"color: blue; font-weight: bold\">Bukkit</span> server\n",
    "  + In Minecraft, choose **Multiplayer**, click Add server\n",
    "  + For the **Server Name** I used *`Canary`*\n",
    "  + For the **Server Address** put *`localhost`*\n",
    "  + Click **Done**\n",
    "  \n",
    "![Add Server](minecraft_adding_server.png)\n",
    "  "
   ]
  },
  {
   "cell_type": "markdown",
   "metadata": {
    "slideshow": {
     "slide_type": "slide"
    }
   },
   "source": [
    "You should now have the Canary server showing in the Server List\n",
    "\n",
    "![Server List](minecraft_server_list.png)"
   ]
  },
  {
   "cell_type": "markdown",
   "metadata": {
    "slideshow": {
     "slide_type": "slide"
    }
   },
   "source": [
    "## Finally, some code"
   ]
  },
  {
   "cell_type": "markdown",
   "metadata": {
    "slideshow": {
     "slide_type": "slide"
    }
   },
   "source": [
    "### Floor of Dirt (00_floor_of_dirt.py)"
   ]
  },
  {
   "cell_type": "code",
   "execution_count": null,
   "metadata": {
    "collapsed": true,
    "slideshow": {
     "slide_type": "fragment"
    }
   },
   "outputs": [],
   "source": [
    "from mcpi import block\n",
    "from mcpi import minecraft\n",
    "\n",
    "########################################################################\n",
    "def floor_of_dirt():\n",
    "    world = minecraft.Minecraft.create()\n",
    "    player = world.player\n",
    "\n",
    "    pos = player.getTilePos()\n",
    "    width = 10\n",
    "    world.setBlocks(pos.x-width,\n",
    "                    pos.y-1,\n",
    "                    pos.z-width,\n",
    "                    pos.x+width,\n",
    "                    pos.y-1,\n",
    "                    pos.z+width,\n",
    "                    block.DIRT.id)\n",
    "\n",
    "########################################################################\n",
    "floor_of_dirt()"
   ]
  },
  {
   "cell_type": "markdown",
   "metadata": {
    "slideshow": {
     "slide_type": "slide"
    }
   },
   "source": [
    "#### Floor of Dirt continued (01_floor_of_dirt.py)"
   ]
  },
  {
   "cell_type": "code",
   "execution_count": null,
   "metadata": {
    "collapsed": true,
    "slideshow": {
     "slide_type": "fragment"
    }
   },
   "outputs": [],
   "source": [
    "from base_command import BaseCommand\n",
    "from mcpi import block\n",
    "\n",
    "########################################################################\n",
    "class Mod(BaseCommand):\n",
    "    ####################################################################\n",
    "    def once(self):\n",
    "        pos = self.player.getTilePos()\n",
    "        width = 10\n",
    "        self.world.setBlocks(pos.x-width,\n",
    "                             pos.y-1,\n",
    "                             pos.z-width,\n",
    "                             pos.x+width,\n",
    "                             pos.y-1,\n",
    "                             pos.z+width,\n",
    "                             block.DIRT.id)\n",
    "\n",
    "########################################################################\n",
    "if __name__ == \"__main__\":\n",
    "    Mod().once()"
   ]
  },
  {
   "cell_type": "markdown",
   "metadata": {
    "slideshow": {
     "slide_type": "slide"
    }
   },
   "source": [
    "### Safe Walk (02_safe_walk.py)"
   ]
  },
  {
   "cell_type": "code",
   "execution_count": null,
   "metadata": {
    "collapsed": false,
    "slideshow": {
     "slide_type": "fragment"
    }
   },
   "outputs": [],
   "source": [
    "from base_command import BaseCommand\n",
    "from mcpi import block\n",
    "\n",
    "########################################################################\n",
    "class Mod(BaseCommand):\n",
    "    ####################################################################\n",
    "    def on_heart_beat(self):\n",
    "        pos = self.player.getTilePos()\n",
    "        pos.y -= 1  # block BELOW the player\n",
    "        self.set_block(pos, block.ICE.id)\n",
    "\n",
    "########################################################################\n",
    "if __name__ == \"__main__\":\n",
    "    Mod().run()"
   ]
  },
  {
   "cell_type": "markdown",
   "metadata": {
    "slideshow": {
     "slide_type": "slide"
    }
   },
   "source": [
    "#### Safe Walk continued (03_safe_walk_platform.py)"
   ]
  },
  {
   "cell_type": "code",
   "execution_count": null,
   "metadata": {
    "collapsed": true,
    "slideshow": {
     "slide_type": "fragment"
    }
   },
   "outputs": [],
   "source": [
    "from base_command import BaseCommand\n",
    "from mcpi import block\n",
    "from mcpi.vec3 import Vec3\n",
    "\n",
    "REPLACE_BLOCKS = [block.WATER.id,\n",
    "                  block.WATER_FLOWING.id,\n",
    "                  block.WATER_STATIONARY.id,\n",
    "                  block.AIR.id]\n",
    "\n",
    "\n",
    "########################################################################\n",
    "class Mod(BaseCommand):\n",
    "    heart_beat_rate = 0.01\n",
    "\n",
    "    ####################################################################\n",
    "    def get_surrounding_blocks(self, pos, distance=1):\n",
    "        \"\"\"\n",
    "        Get all the positions around `pos` on the XZ plane,\n",
    "        including the `pos` block.\n",
    "        \"\"\"\n",
    "        for x in range(-distance, distance+1):\n",
    "            for z in range(-distance, distance+1):\n",
    "                yield Vec3(pos.x+x, pos.y, pos.z+z)\n",
    "\n",
    "    ####################################################################\n",
    "    def on_heart_beat(self):\n",
    "        pos = self.player.getTilePos()\n",
    "        pos.y -= 1  # block BELOW the player\n",
    "\n",
    "        for p in self.get_surrounding_blocks(pos):\n",
    "            b = self.get_block(p)\n",
    "            if b in REPLACE_BLOCKS:\n",
    "                self.set_block(p, block.ICE.id)\n",
    "\n",
    "########################################################################\n",
    "if __name__ == \"__main__\":\n",
    "    Mod().run()"
   ]
  },
  {
   "cell_type": "markdown",
   "metadata": {
    "slideshow": {
     "slide_type": "slide"
    }
   },
   "source": [
    "#### Safe Walk continued (04_safe_walk_faster_platform.py and base_command.py)"
   ]
  },
  {
   "cell_type": "code",
   "execution_count": null,
   "metadata": {
    "collapsed": true,
    "slideshow": {
     "slide_type": "fragment"
    }
   },
   "outputs": [],
   "source": [
    "# in base_command.BaseCommand\n",
    "\n",
    "    ####################################################################\n",
    "    def get_blocks(self, start_pos, end_pos):\n",
    "        args = list(start_pos) + list(end_pos)\n",
    "        blocks = self.world.getBlocks(*args)\n",
    "        block_index = 0\n",
    "        for x in range(start_pos.x, end_pos.x+1):\n",
    "            for y in range(start_pos.y, end_pos.y+1):\n",
    "                for z in range(start_pos.z, end_pos.z+1):\n",
    "                    yield (Vec3(x, y, z), blocks[block_index])\n",
    "                    block_index += 1"
   ]
  },
  {
   "cell_type": "code",
   "execution_count": null,
   "metadata": {
    "collapsed": true,
    "slideshow": {
     "slide_type": "slide"
    }
   },
   "outputs": [],
   "source": [
    "# 04_safe_walk_faster_platform.py\n",
    "from base_command import BaseCommand\n",
    "from mcpi import block\n",
    "from mcpi.vec3 import Vec3\n",
    "\n",
    "REPLACE_BLOCKS = [block.WATER.id,\n",
    "                  block.WATER_FLOWING.id,\n",
    "                  block.WATER_STATIONARY.id,\n",
    "                  block.AIR.id]\n",
    "\n",
    "\n",
    "########################################################################\n",
    "class Mod(BaseCommand):\n",
    "    heart_beat_rate = 0.05\n",
    "\n",
    "    ####################################################################\n",
    "    def on_heart_beat(self):\n",
    "        pos = self.player.getTilePos()\n",
    "        blocks = self.get_blocks(Vec3(pos.x-1,\n",
    "                                      pos.y-2,\n",
    "                                      pos.z-1),\n",
    "                                 Vec3(pos.x+1,\n",
    "                                      pos.y-1,\n",
    "                                      pos.z+1))\n",
    "        for p, b in blocks:\n",
    "            if b in REPLACE_BLOCKS:\n",
    "                self.set_block(p, block.ICE.id)\n",
    "\n",
    "########################################################################\n",
    "if __name__ == \"__main__\":\n",
    "    Mod().run()\n"
   ]
  },
  {
   "cell_type": "markdown",
   "metadata": {
    "slideshow": {
     "slide_type": "slide"
    }
   },
   "source": [
    "#### Safe Walk continued (05_safe_walk_faster_platform.py)"
   ]
  },
  {
   "cell_type": "code",
   "execution_count": null,
   "metadata": {
    "collapsed": true,
    "slideshow": {
     "slide_type": "fragment"
    }
   },
   "outputs": [],
   "source": [
    "from base_command import BaseCommand\n",
    "from mcpi import block\n",
    "from mcpi.vec3 import Vec3\n",
    "\n",
    "REPLACE_BLOCKS = [block.WATER.id,\n",
    "                  block.WATER_FLOWING.id,\n",
    "                  block.WATER_STATIONARY.id,\n",
    "                  block.AIR.id]\n",
    "\n",
    "########################################################################\n",
    "class Mod(BaseCommand):\n",
    "    heart_beat_rate = 0.05\n",
    "\n",
    "    ####################################################################\n",
    "    def __init__(self):\n",
    "        super(Mod, self).__init__()\n",
    "        self.old_ice_blocks = set()\n",
    "\n",
    "    ####################################################################\n",
    "    def on_heart_beat(self):\n",
    "        pos = self.player.getTilePos()\n",
    "        for p, b in self.old_ice_blocks.copy():\n",
    "            if p.y >= pos.y or (pos - p).length() > 4:\n",
    "                self.set_block(p, b)\n",
    "                self.old_ice_blocks.remove((p, b))\n",
    "\n",
    "        blocks = self.get_blocks(Vec3(pos.x-2,\n",
    "                                      pos.y-2,\n",
    "                                      pos.z-2),\n",
    "                                 Vec3(pos.x+2,\n",
    "                                      pos.y-1,\n",
    "                                      pos.z+2))\n",
    "        for p, b in blocks:\n",
    "            if b in REPLACE_BLOCKS:\n",
    "                self.old_ice_blocks.add((p, b))\n",
    "                self.set_block(p, block.ICE.id)\n",
    "\n",
    "\n",
    "########################################################################\n",
    "if __name__ == \"__main__\":\n",
    "    Mod().run()"
   ]
  },
  {
   "cell_type": "markdown",
   "metadata": {
    "slideshow": {
     "slide_type": "slide"
    }
   },
   "source": [
    "### Skating Rink (06_skating_rink.py)"
   ]
  },
  {
   "cell_type": "code",
   "execution_count": null,
   "metadata": {
    "collapsed": false,
    "slideshow": {
     "slide_type": "fragment"
    }
   },
   "outputs": [],
   "source": [
    "import time\n",
    "from base_command import BaseCommand\n",
    "from mcpi import block\n",
    "from mcpi.vec3 import Vec3\n",
    "\n",
    "REPLACE_BLOCKS = [block.WATER.id,\n",
    "                  block.WATER_FLOWING.id,\n",
    "                  block.WATER_STATIONARY.id,\n",
    "                  block.ICE.id]\n",
    "\n",
    "RANGE = 5\n",
    "\n",
    "########################################################################\n",
    "class Mod(BaseCommand):\n",
    "    ####################################################################\n",
    "    def once(self):\n",
    "        self.world.postToChat(\"Sleeping...\")\n",
    "        time.sleep(4)\n",
    "        self.world.postToChat(\"Freeze!\")\n",
    "        self.replaced = set()\n",
    "        self.to_replace = set()\n",
    "        pos = self.player.getTilePos()\n",
    "\n",
    "        blocks = self.get_blocks(Vec3(pos.x-RANGE,\n",
    "                                      pos.y-1,\n",
    "                                      pos.z-RANGE),\n",
    "                                 Vec3(pos.x+RANGE,\n",
    "                                      pos.y-1,\n",
    "                                      pos.z+RANGE))\n",
    "        for p, b in blocks:\n",
    "            if b in REPLACE_BLOCKS:\n",
    "                self.to_replace.add(p)\n",
    "        self.make_rink()\n",
    "        self.world.postToChat(\"All Done.\")\n",
    "\n",
    "    ####################################################################\n",
    "    def make_rink(self):\n",
    "        while len(self.to_replace) > 0:\n",
    "            pos = self.to_replace.pop()\n",
    "            print \"replacing block at\", pos\n",
    "            self.set_block(pos, block.ICE.id)\n",
    "            self.replaced.add(pos)\n",
    "\n",
    "            # check all neighbors\n",
    "            for x in [-1, 0, 1]:\n",
    "                for z in [-1, 0, 1]:\n",
    "                    if x == z == 0:\n",
    "                        continue\n",
    "                    new_pos = Vec3(pos.x+x,\n",
    "                                   pos.y,\n",
    "                                   pos.z+z)\n",
    "                    if new_pos in self.replaced or new_pos in self.to_replace:\n",
    "                        continue\n",
    "                    b = self.get_block(new_pos)\n",
    "                    if b in REPLACE_BLOCKS:\n",
    "                        self.to_replace.add(new_pos)\n",
    "\n",
    "########################################################################\n",
    "if __name__ == \"__main__\":\n",
    "    Mod().once()"
   ]
  },
  {
   "cell_type": "markdown",
   "metadata": {
    "slideshow": {
     "slide_type": "slide"
    }
   },
   "source": [
    "#### Further Development\n",
    "\n",
    "* Fetch chunks of blocks at once and cache them\n",
    "* Cache writes of multiple blocks"
   ]
  },
  {
   "cell_type": "markdown",
   "metadata": {
    "slideshow": {
     "slide_type": "slide"
    }
   },
   "source": [
    "### Build (07_build.py)"
   ]
  },
  {
   "cell_type": "code",
   "execution_count": null,
   "metadata": {
    "collapsed": true,
    "slideshow": {
     "slide_type": "fragment"
    }
   },
   "outputs": [],
   "source": [
    "from base_command import BaseCommand\n",
    "from mcpi import block\n",
    "\n",
    "\n",
    "########################################################################\n",
    "class Mod(BaseCommand):\n",
    "    HOUSE_WIDTH = 12\n",
    "    HOUSE_HEIGHT = 4\n",
    "\n",
    "    ####################################################################\n",
    "    def buildHouse(self, x, y, z):\n",
    "        self.clearHouse(x, y, z)\n",
    "\n",
    "        # draw floor\n",
    "        self.world.setBlocks(x,y-1,z,x+self.HOUSE_WIDTH,y-1,z+self.HOUSE_WIDTH,block.GRASS.id)\n",
    "    \n",
    "        # draw walls\n",
    "        self.world.setBlocks(x, y, z, x+self.HOUSE_WIDTH, y+self.HOUSE_HEIGHT, z, block.STONE.id)\n",
    "        self.world.setBlocks(x+self.HOUSE_WIDTH, y, z, x+self.HOUSE_WIDTH, y+self.HOUSE_HEIGHT, z+self.HOUSE_WIDTH, block.STONE.id)\n",
    "        self.world.setBlocks(x+self.HOUSE_WIDTH, y, z+self.HOUSE_WIDTH, x, y+self.HOUSE_HEIGHT, z+self.HOUSE_WIDTH, block.STONE.id)\n",
    "        self.world.setBlocks(x, y, z+self.HOUSE_WIDTH, x, y+self.HOUSE_HEIGHT, z, block.STONE.id)\n",
    "    \n",
    "        # draw windows\n",
    "        self.world.setBlocks(x+(self.HOUSE_WIDTH/2)-2,y+1,z,x+(self.HOUSE_WIDTH/2)-2,y+2,z,block.GLASS.id)\n",
    "        self.world.setBlocks(x+(self.HOUSE_WIDTH/2)+2,y+1,z,x+(self.HOUSE_WIDTH/2)+2,y+2,z,block.GLASS.id)\n",
    "\n",
    "        self.world.setBlocks(x+(self.HOUSE_WIDTH/2)-2,y+1,z+self.HOUSE_WIDTH,x+(self.HOUSE_WIDTH/2)+2,y+2,z+self.HOUSE_WIDTH,block.GLASS.id)\n",
    "        self.world.setBlocks(x,y+1,z+(self.HOUSE_WIDTH/2)-2,x,y+2,z+(self.HOUSE_WIDTH/2)+2,block.GLASS.id)\n",
    "        self.world.setBlocks(x+self.HOUSE_WIDTH,y+1,z+(self.HOUSE_WIDTH/2)-2,x+self.HOUSE_WIDTH,y+2,z+(self.HOUSE_WIDTH/2)+2,block.GLASS.id)\n",
    "\n",
    "        # cobble arch\n",
    "        self.world.setBlocks(x+(self.HOUSE_WIDTH/2)-1,y,z,x+(self.HOUSE_WIDTH/2)+1,y+2,z,block.COBBLESTONE.id)\n",
    "        # clear space for door\n",
    "        self.world.setBlocks(x+(self.HOUSE_WIDTH/2),y,z,x+(self.HOUSE_WIDTH/2),y+1,z,block.AIR.id)\n",
    "\n",
    "        # small porch\n",
    "        self.world.setBlocks(x+(self.HOUSE_WIDTH/2)-2,y-1,z,x+(self.HOUSE_WIDTH/2)+2,y-1,z-2,block.WOOD_PLANKS.id)\n",
    "        self.world.setBlocks(x+(self.HOUSE_WIDTH/2)-2,y,z-1,x+(self.HOUSE_WIDTH/2)+2,y+3,z-2,block.AIR.id)\n",
    "\n",
    "        # torches weren't working, so add some glow stones for light\n",
    "        self.world.setBlock(x+(self.HOUSE_WIDTH/2)-1,y+3,z,block.GLOWSTONE_BLOCK.id)\n",
    "        self.world.setBlock(x+(self.HOUSE_WIDTH/2)+1,y+3,z,block.GLOWSTONE_BLOCK.id)\n",
    "\n",
    "        self.world.setBlock(x+(self.HOUSE_WIDTH/2)-1,y+3,z+self.HOUSE_WIDTH,block.GLOWSTONE_BLOCK.id)\n",
    "        self.world.setBlock(x+(self.HOUSE_WIDTH/2)+1,y+3,z+self.HOUSE_WIDTH,block.GLOWSTONE_BLOCK.id)\n",
    "\n",
    "        self.world.setBlock(x,y+3,z+(self.HOUSE_WIDTH/2)-1,block.GLOWSTONE_BLOCK.id)\n",
    "        self.world.setBlock(x,y+3,z+(self.HOUSE_WIDTH/2)+1,block.GLOWSTONE_BLOCK.id)\n",
    "\n",
    "        self.world.setBlock(x+self.HOUSE_WIDTH,y+3,z+(self.HOUSE_WIDTH/2)-1,block.GLOWSTONE_BLOCK.id)\n",
    "        self.world.setBlock(x+self.HOUSE_WIDTH,y+3,z+(self.HOUSE_WIDTH/2)+1,block.GLOWSTONE_BLOCK.id)\n",
    "\n",
    "        # draw roof\n",
    "        self.world.setBlocks(x,y+self.HOUSE_HEIGHT+1,z,x+self.HOUSE_WIDTH,y+self.HOUSE_HEIGHT+1,z+self.HOUSE_WIDTH,block.WOOD_PLANKS.id)\n",
    "\n",
    "        # Add a woolen carpet, the colour is 14, which is red.\n",
    "        self.world.setBlocks(x+1, y-1, z+1, x+self.HOUSE_WIDTH-1, y-1, z+self.HOUSE_WIDTH-1, block.WOOL.id, 14)\n",
    "\n",
    "        # draw door\n",
    "        self.world.setBlock(x+(self.HOUSE_WIDTH/2),y,z,block.DOOR_WOOD.id, 1)\n",
    "        self.world.setBlock(x+(self.HOUSE_WIDTH/2),y+1,z,block.DOOR_WOOD.id, 8)\n",
    "\n",
    "        # draw torches\n",
    "        self.world.setBlock(x+(self.HOUSE_WIDTH/2)-1,y+2,z-1,block.TORCH.id,4)\n",
    "        self.world.setBlock(x+(self.HOUSE_WIDTH/2)+1,y+2,z-1,block.TORCH.id,4)\n",
    "\n",
    "    ####################################################################\n",
    "    def clearHouse(self, x, y, z):\n",
    "        self.world.setBlocks(x-2,y-1,z-2,x+self.HOUSE_WIDTH+2,y+self.HOUSE_HEIGHT+1,z+self.HOUSE_WIDTH+2,block.AIR.id)\n",
    "\n",
    "    ####################################################################\n",
    "    def once(self):\n",
    "        pos = self.player.getTilePos()\n",
    "        self.buildHouse(pos.x+2, pos.y, pos.z)\n",
    "\n",
    "########################################################################\n",
    "if __name__ == \"__main__\":\n",
    "    Mod().once()\n"
   ]
  },
  {
   "cell_type": "markdown",
   "metadata": {
    "slideshow": {
     "slide_type": "slide"
    }
   },
   "source": [
    "#### Further Development\n",
    "\n",
    "* Make the building take into account the orientation of the player\n",
    "* Make a Village"
   ]
  }
 ],
 "metadata": {
  "celltoolbar": "Slideshow",
  "kernelspec": {
   "display_name": "Python 2",
   "language": "python",
   "name": "python2"
  },
  "language_info": {
   "codemirror_mode": {
    "name": "ipython",
    "version": 2
   },
   "file_extension": ".py",
   "mimetype": "text/x-python",
   "name": "python",
   "nbconvert_exporter": "python",
   "pygments_lexer": "ipython2",
   "version": "2.7.6"
  }
 },
 "nbformat": 4,
 "nbformat_minor": 0
}
