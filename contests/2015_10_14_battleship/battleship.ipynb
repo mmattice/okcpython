{
 "cells": [
  {
   "cell_type": "markdown",
   "metadata": {
    "collapsed": true,
    "slideshow": {
     "slide_type": "slide"
    }
   },
   "source": [
    "# Battleship\n",
    "## Code SmackDown\n",
    "### Toby Nance"
   ]
  },
  {
   "cell_type": "markdown",
   "metadata": {
    "slideshow": {
     "slide_type": "slide"
    }
   },
   "source": [
    "# Challenge - Destroy All Opponents\n",
    "\n",
    "Write a program (it doesn't *have* to be Python) that will be a player in the game of Battleship, placing its own ships at the beginning of a game and firing shots to take down its opponent.\n",
    "\n",
    "All clients will be run against every other client.  In October we will run the contest and present the results."
   ]
  },
  {
   "cell_type": "markdown",
   "metadata": {
    "slideshow": {
     "slide_type": "slide"
    }
   },
   "source": [
    "### Ways it is *not* like the board game\n",
    "\n",
    "* Server will inform you of the size of the board and the size of the ships\n",
    "  * *But*, we will be playing with the standard board **(10x10)** and the standard ship sizes **(2, 3, 3, 4, 5)**\n",
    "* Both player's shots are taken at the same time in a round\n",
    "* Each player gets to take a shot for each of their surviving ships\n",
    "* The squares are referenced using **(X,Y)** coordinates ranging from **(0,0)** to **(9,9)**, not **(A,1)** to **(J,10)**"
   ]
  },
  {
   "cell_type": "markdown",
   "metadata": {
    "slideshow": {
     "slide_type": "slide"
    }
   },
   "source": [
    "![Battleship Board](grid.png)"
   ]
  },
  {
   "cell_type": "markdown",
   "metadata": {
    "slideshow": {
     "slide_type": "slide"
    }
   },
   "source": [
    "## Communication\n",
    "\n",
    "The client sends a message to the server by printing to standard out, and it receives messages from the server by reading from standard in.\n",
    "\n",
    "Each message is terminated by a newline.\n",
    "\n",
    "So, to read the next message from the server, you can call:\n",
    "\n",
    "    message = raw_input()\n",
    "\n",
    "or\n",
    "\n",
    "    message = sys.stdin.readline().strip()"
   ]
  },
  {
   "cell_type": "markdown",
   "metadata": {
    "slideshow": {
     "slide_type": "slide"
    }
   },
   "source": [
    "To send a message to the server:\n",
    "\n",
    "    print message\n",
    "\n",
    "or\n",
    "\n",
    "    sys.stdout.write(message + \"\\n\")"
   ]
  },
  {
   "cell_type": "markdown",
   "metadata": {
    "slideshow": {
     "slide_type": "slide"
    }
   },
   "source": [
    "# So... What does that actually look like?\n",
    "\n",
    "You start a game that is running client **basic1** against client **basic2**:\n",
    "\n",
    "    python application.py basic1 basic2\n",
    "\n",
    "The two clients are defined in the file `players.py`."
   ]
  },
  {
   "cell_type": "code",
   "execution_count": null,
   "metadata": {
    "collapsed": true,
    "slideshow": {
     "slide_type": "slide"
    }
   },
   "outputs": [],
   "source": [
    "{\n",
    " \"human\":\n",
    "    Player(\"Human\",  [\"python\", \"-u\", \"human.py\"], \"../client/human\"),\n",
    " \"basic1\":\n",
    "    Player(\"Basic1\", [\"python\", \"-u\", \"basic1.py\"], \"../client/python\"),\n",
    " \"basic2\":\n",
    "    Player(\"Basic2\", [\"python\", \"-u\", \"basic2.py\"], \"../client/python\")\n",
    "}\n",
    "\n",
    "\n",
    "# make sure to pass in '-u'!"
   ]
  },
  {
   "cell_type": "markdown",
   "metadata": {
    "slideshow": {
     "slide_type": "slide"
    }
   },
   "source": [
    "The server (`server.py`) is started by `application.py`, and each client is started in a subprocess.\n",
    "\n",
    "The server informs each client of the configured board size.\n",
    "\n",
    "This means that when our client reads its first few lines from standard in, it will get something like this:"
   ]
  },
  {
   "cell_type": "code",
   "execution_count": null,
   "metadata": {
    "collapsed": false,
    "slideshow": {
     "slide_type": "slide"
    }
   },
   "outputs": [],
   "source": [
    "# some_client.py\n",
    "\n",
    "message = raw_input()\n",
    "assert message == \"|INFO|grid size|10 10|END|\"\n",
    "\n",
    "message = raw_input()\n",
    "assert message == \"|INFO|num ships|5|END|\"\n",
    "\n",
    "message = raw_input()\n",
    "assert message == \"|INFO|ship sizes|2|3|3|4|5|END|\"\n",
    "\n",
    "message = raw_input()\n",
    "assert message == \"|QUERY|ship locations|END|\""
   ]
  },
  {
   "cell_type": "markdown",
   "metadata": {
    "slideshow": {
     "slide_type": "slide"
    }
   },
   "source": [
    "### At this point, our client will need to reply to the server saying where it wants to put its ships"
   ]
  },
  {
   "cell_type": "code",
   "execution_count": null,
   "metadata": {
    "collapsed": true,
    "slideshow": {
     "slide_type": "slide"
    }
   },
   "outputs": [],
   "source": [
    "print \"|RESPONSE|ship locations|0 0 H|0 1 H|0 2 H|0 3 H|0 4 H|END|\"\n",
    "\n",
    "# Now look for more messages from the server\n",
    "\n",
    "message = raw_input()\n",
    "assert message == \"|QUERY|shots|5|END|\""
   ]
  },
  {
   "cell_type": "markdown",
   "metadata": {
    "slideshow": {
     "slide_type": "slide"
    }
   },
   "source": [
    "## Types of messages\n",
    "\n",
    "There are 3 types of messages: **INFO**, **QUERY**, and **RESPONSE**.\n",
    "\n",
    "**INFO** means that the server is telling you something, and doesn't expect a response.  You can ignore the information, or use it to improve your strategy.\n",
    "\n",
    "**QUERY** means that the server is asking your client something, and it won't move forward until it receives a **RESPONSE**.\n",
    "\n",
    "Your client will send a **RESPONSE** to the server after receiving a **QUERY**.  That is the only time that the client communicates with the server."
   ]
  },
  {
   "cell_type": "markdown",
   "metadata": {
    "slideshow": {
     "slide_type": "slide"
    }
   },
   "source": [
    "Each message takes either the form\n",
    "\n",
    "    |MESSAGE_TYPE|MESSAGE_KEY|END|\n",
    "\n",
    "or\n",
    "\n",
    "    |MESSAGE_TYPE|MESSAGE_KEY|DATA|END|\n",
    "\n",
    "(meaning the data field is not always used)"
   ]
  },
  {
   "cell_type": "markdown",
   "metadata": {
    "slideshow": {
     "slide_type": "slide"
    }
   },
   "source": [
    "### INFO Messages\n",
    "\n",
    "<div>\n",
    "<dl>\n",
    "<dt>grid size</dt><dd>Informs the player of the playing area size.</dd>\n",
    "<dt>num ships</dt><dd>Informs the player of the number of ships that will be in play.</dd>\n",
    "<dt>ship sizes</dt><dd>Informs the player of the ships' sizes.</dd>\n",
    "<dt>you miss</dt><dd>Informs the client that a particular shot the client made missed.</dd>\n",
    "<dt>you hit</dt><dd>Informs the client that a particular shot the client made hit.</dd>\n",
    "</dl>\n",
    "</div>"
   ]
  },
  {
   "cell_type": "markdown",
   "metadata": {
    "slideshow": {
     "slide_type": "slide"
    }
   },
   "source": [
    "### INFO Messages - Continued\n",
    "<div>\n",
    "<dl>\n",
    "<dt>opponent miss</dt><dd>Informs the client that a particular shot the client's opponent made missed.</dd>\n",
    "<dt>opponent hit</dt><dd>Informs the client that a particular shot the client's opponent made hit.</dd>\n",
    "<dt>won game</dt><dd>Informs the client that they won the game.</dd>\n",
    "<dt>lost game</dt><dd>Informs the client that they lost the game.</dd>\n",
    "<dt>tie game</dt><dd>Informs the client that the game was tied.</dd>\n",
    "<dt>end game</dt><dd>Informs the player that the game is over.</dd>\n",
    "</dl>\n",
    "</div>"
   ]
  },
  {
   "cell_type": "markdown",
   "metadata": {
    "slideshow": {
     "slide_type": "slide"
    }
   },
   "source": [
    "### QUERY Messages\n",
    "\n",
    "\n",
    "\n",
    "<div>\n",
    "<br/>\n",
    "<dl>\n",
    "<dt>ship locations</dt><dd>Asks client where they wish to place the ships.</dd>\n",
    "<dt>shots</dt><dd>Asks the client where they wish to fire this round.</dd>\n",
    "</dl>\n",
    "</div>"
   ]
  },
  {
   "cell_type": "markdown",
   "metadata": {
    "slideshow": {
     "slide_type": "slide"
    }
   },
   "source": [
    "### RESPONSE Messages\n",
    "\n",
    "\n",
    "\n",
    "<div>\n",
    "<br/>\n",
    "<dl>\n",
    "<dt>ship locations</dt><dd>Informs the server where the client wishes to place the ships.</dd>\n",
    "<dt>shots</dt><dd>Informs the server where the client wishes to fire this round.</dd>\n",
    "</dl>\n",
    "</div>"
   ]
  },
  {
   "cell_type": "markdown",
   "metadata": {
    "slideshow": {
     "slide_type": "slide"
    }
   },
   "source": [
    "# Live Demo"
   ]
  },
  {
   "cell_type": "markdown",
   "metadata": {
    "slideshow": {
     "slide_type": "slide"
    }
   },
   "source": [
    "* The Server and sample clients are at: https://github.com/tobynance/okcpython under **contests/2015_10_14_battleship**\n",
    "* Feel free to use the `client_base.py`, but don't feel compelled to use it.\n",
    "* Clients due end-of-day **October 2nd**\n",
    "* How to Submit - email solution to **battleshipcontest@okcpython.org**\n",
    "  * If you have to do anything strange to kick off your program, please make sure to provide the line you would add to `players.py` to run it."
   ]
  },
  {
   "cell_type": "markdown",
   "metadata": {
    "slideshow": {
     "slide_type": "slide"
    }
   },
   "source": [
    "* Bugs - let me know! (**battleshipcontest@okcpython.org**)\n",
    "* Cheating\n",
    "  * Do not try to read or modify any files outside of your client's folder (other clients, server logs)\n",
    "  * If you aren't sure if it is allowed, ask\n",
    "* Call for Presentations"
   ]
  },
  {
   "cell_type": "markdown",
   "metadata": {
    "slideshow": {
     "slide_type": "slide"
    }
   },
   "source": [
    "# Next Month\n",
    "\n",
    "Kris Austin will present on using Django to read the `observer.log` files to replay a game visually."
   ]
  }
 ],
 "metadata": {
  "celltoolbar": "Slideshow",
  "kernelspec": {
   "display_name": "Python 2",
   "language": "python",
   "name": "python2"
  },
  "language_info": {
   "codemirror_mode": {
    "name": "ipython",
    "version": 2
   },
   "file_extension": ".py",
   "mimetype": "text/x-python",
   "name": "python",
   "nbconvert_exporter": "python",
   "pygments_lexer": "ipython2",
   "version": "2.7.6"
  }
 },
 "nbformat": 4,
 "nbformat_minor": 0
}
