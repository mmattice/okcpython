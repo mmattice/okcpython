{
 "cells": [
  {
   "cell_type": "markdown",
   "metadata": {
    "collapsed": true,
    "slideshow": {
     "slide_type": "slide"
    }
   },
   "source": [
    "# Battleship\n",
    "## Code SmackDown\n",
    "### Toby Nance"
   ]
  },
  {
   "cell_type": "markdown",
   "metadata": {
    "slideshow": {
     "slide_type": "slide"
    }
   },
   "source": [
    "### Ways it is *not* like the board game\n",
    "\n",
    "* Server will inform you of the size of the board and the size of the ships\n",
    "  * *But*, we will be playing with the standard board **(10x10)** and the standard ship sizes **(2, 3, 3, 4, 5)**\n",
    "* Both player's shots are taken at the same time in a round\n",
    "* Each player gets to take a shot for each of their surviving ships\n",
    "* The squares are referenced using **(X,Y)** coordinates ranging from **(0,0)** to **(9,9)**, not **(A,1)** to **(J,10)**"
   ]
  },
  {
   "cell_type": "markdown",
   "metadata": {
    "slideshow": {
     "slide_type": "slide"
    }
   },
   "source": [
    "![Battleship Board](grid.png)"
   ]
  },
  {
   "cell_type": "markdown",
   "metadata": {
    "slideshow": {
     "slide_type": "slide"
    }
   },
   "source": [
    "## Communication\n",
    "\n",
    "The client sends a message to the server by printing to standard out, and it receives messages from the server by reading from standard in.\n",
    "\n",
    "Each message is terminated by a newline.\n",
    "\n",
    "So, to read the next message from the server, you can call:\n",
    "\n",
    "    message = raw_input()\n",
    "\n",
    "or\n",
    "\n",
    "    message = sys.stdin.readline().strip()"
   ]
  },
  {
   "cell_type": "markdown",
   "metadata": {
    "slideshow": {
     "slide_type": "slide"
    }
   },
   "source": [
    "To send a message to the server:\n",
    "\n",
    "    print message\n",
    "\n",
    "or\n",
    "\n",
    "    sys.stdout.write(message)"
   ]
  },
  {
   "cell_type": "markdown",
   "metadata": {
    "slideshow": {
     "slide_type": "slide"
    }
   },
   "source": [
    "# So... What does that actually look like?\n",
    "\n",
    "You start a game, running client **basic1** against client **basic2**\n",
    "\n",
    "    python application.py basic1 basic2\n",
    "\n",
    "The two clients are defined in the file *players.py*."
   ]
  },
  {
   "cell_type": "code",
   "execution_count": null,
   "metadata": {
    "collapsed": true,
    "slideshow": {
     "slide_type": "slide"
    }
   },
   "outputs": [],
   "source": [
    "{\n",
    " \"human\":\n",
    "    Player(\"Human\",  [\"python\", \"-u\", \"human.py\"], \"../client/human\"),\n",
    " \"basic1\":\n",
    "    Player(\"Basic1\", [\"python\", \"-u\", \"basic1.py\"], \"../client/python\"),\n",
    " \"basic2\":\n",
    "    Player(\"Basic2\", [\"python\", \"-u\", \"basic2.py\"], \"../client/python\")\n",
    "}\n",
    "\n",
    "\n",
    "# make sure to pass in '-u'!"
   ]
  },
  {
   "cell_type": "markdown",
   "metadata": {
    "slideshow": {
     "slide_type": "slide"
    }
   },
   "source": [
    "The server (server.py) is started by application.py, and each client is started in a subprocess.\n",
    "\n",
    "The server informs each client of the configured board size.\n",
    "\n",
    "This means that when our client reads its first few lines from standard in, it will get something like this:"
   ]
  },
  {
   "cell_type": "code",
   "execution_count": null,
   "metadata": {
    "collapsed": false,
    "slideshow": {
     "slide_type": "slide"
    }
   },
   "outputs": [],
   "source": [
    "# some_client.py\n",
    "\n",
    "message = raw_input()\n",
    "assert message == \"|INFO|grid size|10 10|END|\"\n",
    "\n",
    "message = raw_input()\n",
    "assert message == \"|INFO|num ships|5|END|\"\n",
    "\n",
    "message = raw_input()\n",
    "assert message == \"|INFO|ship sizes|2|3|3|4|5|END|\"\n",
    "\n",
    "message = raw_input()\n",
    "assert message == \"|QUERY|ship locations|END|\""
   ]
  },
  {
   "cell_type": "markdown",
   "metadata": {
    "slideshow": {
     "slide_type": "slide"
    }
   },
   "source": [
    "### At this point, our client will need to reply to the server saying where it wants to put its ships"
   ]
  },
  {
   "cell_type": "code",
   "execution_count": null,
   "metadata": {
    "collapsed": true,
    "slideshow": {
     "slide_type": "slide"
    }
   },
   "outputs": [],
   "source": [
    "print \"|RESPONSE|ship locations|0 0 H|0 1 H|0 2 H|0 3 H|0 4 H|END|\"\n",
    "\n",
    "# Now look for more messages from the server\n",
    "\n",
    "message = raw_input()\n",
    "assert message == \"|QUERY|shots|5|END|\""
   ]
  },
  {
   "cell_type": "markdown",
   "metadata": {
    "slideshow": {
     "slide_type": "slide"
    }
   },
   "source": [
    "## Types of messages\n",
    "\n",
    "There are 3 types of messages: **INFO**, **QUERY**, and **RESPONSE**.\n",
    "\n",
    "**INFO** means that the server is telling you something, and doesn't expect a response.  You can ignore the information, or use it to improve your strategy.\n",
    "\n",
    "**QUERY** means that the server is asking your client something, and it won't move forward until it receives a **RESPONSE**.\n",
    "\n",
    "Your client will send a **RESPONSE** to the server after receiving a **QUERY**.  That is the only time that the client communicates with the server.\n",
    "\n",
    "Each message takes either the form\n",
    "\n",
    "    |MESSAGE_TYPE|MESSAGE_KEY|END|\n",
    "\n",
    "or\n",
    "\n",
    "    |MESSAGE_TYPE|MESSAGE_KEY|DATA|END|\n",
    "\n",
    "(meaning the data field is not always used)"
   ]
  },
  {
   "cell_type": "markdown",
   "metadata": {
    "slideshow": {
     "slide_type": "slide"
    }
   },
   "source": [
    "### INFO Messages\n",
    "\n",
    "<div>\n",
    "<dl>\n",
    "  <dt>Coffee</dt>\n",
    "  <dd>Black hot drink</dd>\n",
    "  <dt>Milk</dt>\n",
    "  <dd>White cold drink</dd>\n",
    "</dl>\n",
    "</div>"
   ]
  }
 ],
 "metadata": {
  "celltoolbar": "Slideshow",
  "kernelspec": {
   "display_name": "Python 2",
   "language": "python",
   "name": "python2"
  },
  "language_info": {
   "codemirror_mode": {
    "name": "ipython",
    "version": 2
   },
   "file_extension": ".py",
   "mimetype": "text/x-python",
   "name": "python",
   "nbconvert_exporter": "python",
   "pygments_lexer": "ipython2",
   "version": "2.7.6"
  }
 },
 "nbformat": 4,
 "nbformat_minor": 0
}
