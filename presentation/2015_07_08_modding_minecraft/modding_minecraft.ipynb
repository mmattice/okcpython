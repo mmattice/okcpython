{
 "cells": [
  {
   "cell_type": "markdown",
   "metadata": {
    "slideshow": {
     "slide_type": "slide"
    }
   },
   "source": [
    "# Modding Minecraft\n",
    "## Modding Python"
   ]
  },
  {
   "cell_type": "markdown",
   "metadata": {
    "slideshow": {
     "slide_type": "slide"
    }
   },
   "source": [
    "## Installation\n",
    "\n",
    "Go to http://www.wiley.com/WileyCDA/Section/id-823690.html and download the **Starter Kit** for your platform (I used the Mac Starter Kit to run on Linux).  The **readme.txt** included will walk you through getting up and running.  It looks like **Bukkit** is now a defunct project, so I used **CanaryMod**.\n",
    "\n",
    "The major components you will need:\n",
    "\n",
    "* CanaryMod (http://canarymod.net/releases)\n",
    "* RaspberryJuice (https://github.com/martinohanlon/canaryraspberryjuice)\n",
    "* Minecraft (https://minecraft.net)\n",
    "\n",
    "Checkout the code from this presentation (https://github.com/tobynance/okcpython.git)\n",
    "> cd okcpython/presentation/2015_07_08_modding_minecraft/code"
   ]
  },
  {
   "cell_type": "markdown",
   "metadata": {
    "slideshow": {
     "slide_type": "slide"
    }
   },
   "source": [
    "### Make Sure To...\n",
    "Open the eula.txt file in the Canarymod folder and change:\n",
    "> eula=false\n",
    "\n",
    "to:\n",
    "\n",
    "> eula=true\n",
    "\n",
    "Now Run CanaryMod:\n",
    "> java -Xmx1024M -jar Canarymod.jar\n",
    "\n",
    "And execute the server command:\n",
    "> playermod group add `<playername>` admins"
   ]
  },
  {
   "cell_type": "markdown",
   "metadata": {
    "slideshow": {
     "slide_type": "slide"
    }
   },
   "source": [
    "## Running\n",
    "\n",
    "After you have followed the installation steps in the **readme.txt** of the Starter Kit:\n",
    "\n",
    "### Start CanaryMod\n",
    "> java -Xmx1024M -jar Canarymod.jar"
   ]
  },
  {
   "cell_type": "markdown",
   "metadata": {
    "slideshow": {
     "slide_type": "slide"
    }
   },
   "source": [
    "### Connect to your local CanaryMod server\n",
    "  + In Minecraft, choose **Multiplayer**, click Add server\n",
    "  + For the **Server Name** I used *`Canary`*\n",
    "  + For the **Server Address** put *`localhost`*\n",
    "  + Click **Done**\n",
    "  \n",
    "![Add Server](minecraft_adding_server.png)\n",
    "  "
   ]
  },
  {
   "cell_type": "markdown",
   "metadata": {
    "slideshow": {
     "slide_type": "slide"
    }
   },
   "source": [
    "You should now have the Canary server showing in the Server List\n",
    "\n",
    "![Server List](minecraft_server_list.png)"
   ]
  },
  {
   "cell_type": "markdown",
   "metadata": {
    "slideshow": {
     "slide_type": "slide"
    }
   },
   "source": [
    "## Finally, some code"
   ]
  },
  {
   "cell_type": "markdown",
   "metadata": {
    "slideshow": {
     "slide_type": "slide"
    }
   },
   "source": [
    "### Floor of Dirt"
   ]
  },
  {
   "cell_type": "code",
   "execution_count": 6,
   "metadata": {
    "collapsed": true,
    "slideshow": {
     "slide_type": "fragment"
    }
   },
   "outputs": [],
   "source": [
    "from mcpi import block\n",
    "from mcpi import minecraft\n",
    "\n",
    "########################################################################\n",
    "def floor_of_dirt():\n",
    "    world = minecraft.Minecraft.create()\n",
    "    player = world.player\n",
    "\n",
    "    pos = player.getTilePos()\n",
    "    width = 10\n",
    "    world.setBlocks(pos.x-width,\n",
    "                    pos.y-1,\n",
    "                    pos.z-width,\n",
    "                    pos.x+width,\n",
    "                    pos.y-1,\n",
    "                    pos.z+width,\n",
    "                    block.DIRT.id)\n",
    "\n",
    "########################################################################\n",
    "floor_of_dirt()"
   ]
  },
  {
   "cell_type": "markdown",
   "metadata": {
    "slideshow": {
     "slide_type": "slide"
    }
   },
   "source": [
    "### Safe Walk (02_safe_walk.py)"
   ]
  },
  {
   "cell_type": "code",
   "execution_count": null,
   "metadata": {
    "collapsed": false,
    "scrolled": false,
    "slideshow": {
     "slide_type": "fragment"
    }
   },
   "outputs": [],
   "source": [
    "from base_command import BaseCommand\n",
    "from mcpi import block\n",
    "\n",
    "########################################################################\n",
    "class Mod(BaseCommand):\n",
    "    ####################################################################\n",
    "    def on_heart_beat(self):\n",
    "        pos = self.player.getTilePos()\n",
    "        pos.y -= 1  # block BELOW the player\n",
    "        self.set_block(pos, block.ICE.id)\n",
    "\n",
    "########################################################################\n",
    "if __name__ == \"__main__\":\n",
    "    Mod().run()"
   ]
  },
  {
   "cell_type": "markdown",
   "metadata": {
    "slideshow": {
     "slide_type": "slide"
    }
   },
   "source": [
    "### Safe Walk continued (03_safe_walk_platform.py)"
   ]
  },
  {
   "cell_type": "code",
   "execution_count": null,
   "metadata": {
    "collapsed": true,
    "slideshow": {
     "slide_type": "fragment"
    }
   },
   "outputs": [],
   "source": [
    "from base_command import BaseCommand\n",
    "from mcpi import block\n",
    "from mcpi.vec3 import Vec3\n",
    "\n",
    "REPLACE_BLOCKS = [block.WATER.id,\n",
    "                  block.WATER_FLOWING.id,\n",
    "                  block.WATER_STATIONARY.id,\n",
    "                  block.AIR.id]\n",
    "\n",
    "\n",
    "########################################################################\n",
    "class Mod(BaseCommand):\n",
    "    heart_beat_rate = 0.01\n",
    "\n",
    "    ####################################################################\n",
    "    def get_surrounding_blocks(self, pos, distance=1):\n",
    "        \"\"\"\n",
    "        Get all the positions around `pos` on the XZ plane,\n",
    "        including the `pos` block.\n",
    "        \"\"\"\n",
    "        for x in range(-distance, distance+1):\n",
    "            for z in range(-distance, distance+1):\n",
    "                yield Vec3(pos.x+x, pos.y, pos.z+z)\n",
    "\n",
    "    ####################################################################\n",
    "    def on_heart_beat(self):\n",
    "        pos = self.player.getTilePos()\n",
    "        pos.y -= 1  # block BELOW the player\n",
    "\n",
    "        for p in self.get_surrounding_blocks(pos):\n",
    "            b = self.get_block(p)\n",
    "            if b in REPLACE_BLOCKS:\n",
    "                self.set_block(p, block.ICE.id)\n",
    "\n",
    "########################################################################\n",
    "if __name__ == \"__main__\":\n",
    "    Mod().run()"
   ]
  },
  {
   "cell_type": "markdown",
   "metadata": {
    "slideshow": {
     "slide_type": "slide"
    }
   },
   "source": [
    "### Safe Walk continued (04_safe_walk_faster_platform.py)"
   ]
  },
  {
   "cell_type": "code",
   "execution_count": null,
   "metadata": {
    "collapsed": true,
    "slideshow": {
     "slide_type": "fragment"
    }
   },
   "outputs": [],
   "source": []
  }
 ],
 "metadata": {
  "celltoolbar": "Slideshow",
  "kernelspec": {
   "display_name": "Python 2",
   "language": "python",
   "name": "python2"
  },
  "language_info": {
   "codemirror_mode": {
    "name": "ipython",
    "version": 2
   },
   "file_extension": ".py",
   "mimetype": "text/x-python",
   "name": "python",
   "nbconvert_exporter": "python",
   "pygments_lexer": "ipython2",
   "version": "2.7.6"
  }
 },
 "nbformat": 4,
 "nbformat_minor": 0
}
