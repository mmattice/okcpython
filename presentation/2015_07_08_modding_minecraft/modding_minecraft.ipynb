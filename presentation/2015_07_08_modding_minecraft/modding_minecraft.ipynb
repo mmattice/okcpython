{
 "cells": [
  {
   "cell_type": "markdown",
   "metadata": {
    "slideshow": {
     "slide_type": "slide"
    }
   },
   "source": [
    "# Modding Minecraft\n",
    "## Modding Python"
   ]
  },
  {
   "cell_type": "markdown",
   "metadata": {
    "slideshow": {
     "slide_type": "slide"
    }
   },
   "source": [
    "## Installation\n",
    "\n",
    "Go to http://www.wiley.com/WileyCDA/Section/id-823690.html and download the **Starter Kit** for your platform (I used the Mac Starter Kit to run on Linux).  The **readme.txt** included will walk you through getting up and running.  It looks like **Bukkit** is now a defunct project, so I used **CanaryMod**.\n",
    "\n",
    "The major components you will need:\n",
    "\n",
    "* CanaryMod (http://canarymod.net/releases)\n",
    "* RaspberryJuice (https://github.com/martinohanlon/canaryraspberryjuice)\n",
    "* Minecraft (https://minecraft.net)\n",
    "\n",
    "Checkout the code from this presentation (https://github.com/tobynance/okcpython.git)\n",
    "> cd okcpython/presentation/2015_07_08_modding_minecraft/code"
   ]
  },
  {
   "cell_type": "markdown",
   "metadata": {
    "slideshow": {
     "slide_type": "slide"
    }
   },
   "source": [
    "### Make Sure To...\n",
    "Open the eula.txt file in the Canarymod folder and change:\n",
    "> eula=false\n",
    "\n",
    "to:\n",
    "\n",
    "> eula=true\n",
    "\n",
    "Now Run CanaryMod:\n",
    "> java -Xmx1024M -jar Canarymod.jar\n",
    "\n",
    "And execute the server command:\n",
    "> playermod group add `<playername>` admins"
   ]
  },
  {
   "cell_type": "markdown",
   "metadata": {
    "slideshow": {
     "slide_type": "slide"
    }
   },
   "source": [
    "## Running\n",
    "\n",
    "After you have followed the installation steps in the **readme.txt** of the Starter Kit:\n",
    "\n",
    "* Start Minecraft\n",
    "* Start CanaryMod\n",
    "> java -Xmx1024M -jar Canarymod.jar\n",
    "\n",
    "* Connect to your local CanaryMod server\n",
    "  + In Minecraft, choose **Multiplayer**, click Add server\n",
    "  + For the **Server Name** I used *`Canary`*\n",
    "  + For the **Server Address** put *`localhost`*\n",
    "  + Click **Done**\n",
    "  \n",
    "![Add Server](minecraft_adding_server.png)\n",
    "  \n",
    "You should now have the Canary server showing in the Server List\n",
    "\n",
    "![Server List](minecraft_server_list.png)"
   ]
  },
  {
   "cell_type": "code",
   "execution_count": 5,
   "metadata": {
    "collapsed": true,
    "slideshow": {
     "slide_type": "slide"
    }
   },
   "outputs": [],
   "source": [
    "from code.mcpi import block\n",
    "from code.mcpi import minecraft\n",
    "\n",
    "########################################################################\n",
    "def floor_of_dirt():\n",
    "    world = minecraft.Minecraft.create()\n",
    "    player = world.player\n",
    "\n",
    "    pos = player.getTilePos()\n",
    "    width = 10\n",
    "    world.setBlocks(pos.x-width, pos.y-1, pos.z-width, pos.x+width, pos.y-1, pos.z+width, block.DIRT.id)\n",
    "\n",
    "########################################################################\n",
    "floor_of_dirt()"
   ]
  }
 ],
 "metadata": {
  "celltoolbar": "Slideshow",
  "kernelspec": {
   "display_name": "Python 2",
   "language": "python",
   "name": "python2"
  },
  "language_info": {
   "codemirror_mode": {
    "name": "ipython",
    "version": 2
   },
   "file_extension": ".py",
   "mimetype": "text/x-python",
   "name": "python",
   "nbconvert_exporter": "python",
   "pygments_lexer": "ipython2",
   "version": "2.7.6"
  }
 },
 "nbformat": 4,
 "nbformat_minor": 0
}
