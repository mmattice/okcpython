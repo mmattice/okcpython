{
 "cells": [
  {
   "cell_type": "markdown",
   "metadata": {
    "slideshow": {
     "slide_type": "slide"
    }
   },
   "source": [
    "# Modding Minecraft\n",
    "## Modding Python"
   ]
  },
  {
   "cell_type": "markdown",
   "metadata": {
    "slideshow": {
     "slide_type": "slide"
    }
   },
   "source": [
    "## Installation\n",
    "\n",
    "Go to http://www.wiley.com/WileyCDA/Section/id-823690.html and download the **Starter Kit** for your platform (I used the Mac Starter Kit to run on Linux).  The **readme.txt** included will walk you through getting up and running.  It looks like **Bukkit** is now a defunct project, so I used **CanaryMod**.\n",
    "\n",
    "The major components you will need:\n",
    "\n",
    "* CanaryMod (http://canarymod.net/releases)\n",
    "* RaspberryJuice (https://github.com/martinohanlon/canaryraspberryjuice)\n",
    "* Minecraft (https://minecraft.net)\n",
    "\n",
    "Checkout the code from this presentation (https://github.com/tobynance/okcpython.git)\n",
    "> cd okcpython/presentation/2015_07_08_modding_minecraft/code"
   ]
  },
  {
   "cell_type": "markdown",
   "metadata": {
    "slideshow": {
     "slide_type": "slide"
    }
   },
   "source": [
    "### Make Sure To...\n",
    "Open the eula.txt file in the Canarymod folder and change:\n",
    "> eula=false\n",
    "\n",
    "to:\n",
    "\n",
    "> eula=true\n",
    "\n",
    "Now Run CanaryMod:\n",
    "> java -Xmx1024M -jar Canarymod.jar\n",
    "\n",
    "And execute the server command:\n",
    "> playermod group add `<playername>` admins"
   ]
  },
  {
   "cell_type": "markdown",
   "metadata": {
    "slideshow": {
     "slide_type": "slide"
    }
   },
   "source": [
    "## Running\n",
    "\n",
    "After you have followed the installation steps in the **readme.txt** of the Starter Kit:\n",
    "\n",
    "### Start CanaryMod\n",
    "> java -Xmx1024M -jar Canarymod.jar"
   ]
  },
  {
   "cell_type": "markdown",
   "metadata": {
    "slideshow": {
     "slide_type": "slide"
    }
   },
   "source": [
    "### Connect to your local CanaryMod server\n",
    "  + In Minecraft, choose **Multiplayer**, click Add server\n",
    "  + For the **Server Name** I used *`Canary`*\n",
    "  + For the **Server Address** put *`localhost`*\n",
    "  + Click **Done**\n",
    "  \n",
    "![Add Server](minecraft_adding_server.png)\n",
    "  "
   ]
  },
  {
   "cell_type": "markdown",
   "metadata": {
    "slideshow": {
     "slide_type": "slide"
    }
   },
   "source": [
    "You should now have the Canary server showing in the Server List\n",
    "\n",
    "![Server List](minecraft_server_list.png)"
   ]
  },
  {
   "cell_type": "markdown",
   "metadata": {
    "slideshow": {
     "slide_type": "slide"
    }
   },
   "source": [
    "## Finally, some code"
   ]
  },
  {
   "cell_type": "markdown",
   "metadata": {
    "slideshow": {
     "slide_type": "slide"
    }
   },
   "source": [
    "### Floor of Dirt"
   ]
  },
  {
   "cell_type": "code",
   "execution_count": 6,
   "metadata": {
    "collapsed": true,
    "slideshow": {
     "slide_type": "fragment"
    }
   },
   "outputs": [],
   "source": [
    "from mcpi import block\n",
    "from mcpi import minecraft\n",
    "\n",
    "########################################################################\n",
    "def floor_of_dirt():\n",
    "    world = minecraft.Minecraft.create()\n",
    "    player = world.player\n",
    "\n",
    "    pos = player.getTilePos()\n",
    "    width = 10\n",
    "    world.setBlocks(pos.x-width,\n",
    "                    pos.y-1,\n",
    "                    pos.z-width,\n",
    "                    pos.x+width,\n",
    "                    pos.y-1,\n",
    "                    pos.z+width,\n",
    "                    block.DIRT.id)\n",
    "\n",
    "########################################################################\n",
    "floor_of_dirt()"
   ]
  },
  {
   "cell_type": "markdown",
   "metadata": {
    "slideshow": {
     "slide_type": "slide"
    }
   },
   "source": [
    "### Safe Walk (02_safe_walk.py)"
   ]
  },
  {
   "cell_type": "code",
   "execution_count": null,
   "metadata": {
    "collapsed": false,
    "scrolled": false,
    "slideshow": {
     "slide_type": "fragment"
    }
   },
   "outputs": [],
   "source": [
    "from base_command import BaseCommand\n",
    "from mcpi import block\n",
    "\n",
    "########################################################################\n",
    "class Mod(BaseCommand):\n",
    "    ####################################################################\n",
    "    def on_heart_beat(self):\n",
    "        pos = self.player.getTilePos()\n",
    "        pos.y -= 1  # block BELOW the player\n",
    "        self.set_block(pos, block.ICE.id)\n",
    "\n",
    "########################################################################\n",
    "if __name__ == \"__main__\":\n",
    "    Mod().run()"
   ]
  },
  {
   "cell_type": "markdown",
   "metadata": {
    "slideshow": {
     "slide_type": "slide"
    }
   },
   "source": [
    "### Safe Walk continued (03_safe_walk_platform.py)"
   ]
  },
  {
   "cell_type": "code",
   "execution_count": null,
   "metadata": {
    "collapsed": true,
    "slideshow": {
     "slide_type": "fragment"
    }
   },
   "outputs": [],
   "source": [
    "from base_command import BaseCommand\n",
    "from mcpi import block\n",
    "from mcpi.vec3 import Vec3\n",
    "\n",
    "REPLACE_BLOCKS = [block.WATER.id,\n",
    "                  block.WATER_FLOWING.id,\n",
    "                  block.WATER_STATIONARY.id,\n",
    "                  block.AIR.id]\n",
    "\n",
    "\n",
    "########################################################################\n",
    "class Mod(BaseCommand):\n",
    "    heart_beat_rate = 0.01\n",
    "\n",
    "    ####################################################################\n",
    "    def get_surrounding_blocks(self, pos, distance=1):\n",
    "        \"\"\"\n",
    "        Get all the positions around `pos` on the XZ plane,\n",
    "        including the `pos` block.\n",
    "        \"\"\"\n",
    "        for x in range(-distance, distance+1):\n",
    "            for z in range(-distance, distance+1):\n",
    "                yield Vec3(pos.x+x, pos.y, pos.z+z)\n",
    "\n",
    "    ####################################################################\n",
    "    def on_heart_beat(self):\n",
    "        pos = self.player.getTilePos()\n",
    "        pos.y -= 1  # block BELOW the player\n",
    "\n",
    "        for p in self.get_surrounding_blocks(pos):\n",
    "            b = self.get_block(p)\n",
    "            if b in REPLACE_BLOCKS:\n",
    "                self.set_block(p, block.ICE.id)\n",
    "\n",
    "########################################################################\n",
    "if __name__ == \"__main__\":\n",
    "    Mod().run()"
   ]
  },
  {
   "cell_type": "markdown",
   "metadata": {
    "slideshow": {
     "slide_type": "slide"
    }
   },
   "source": [
    "### Safe Walk continued (04_safe_walk_faster_platform.py and base_command.py)"
   ]
  },
  {
   "cell_type": "code",
   "execution_count": null,
   "metadata": {
    "collapsed": true,
    "slideshow": {
     "slide_type": "fragment"
    }
   },
   "outputs": [],
   "source": [
    "# in base_command.BaseCommand\n",
    "\n",
    "    ####################################################################\n",
    "    def get_blocks(self, start_pos, end_pos):\n",
    "        args = list(start_pos) + list(end_pos)\n",
    "        # print \"get_blocks:\", args\n",
    "        blocks = self.world.getBlocks(*args)\n",
    "        block_index = 0\n",
    "        for x in range(start_pos.x, end_pos.x+1):\n",
    "            for y in range(start_pos.y, end_pos.y+1):\n",
    "                for z in range(start_pos.z, end_pos.z+1):\n",
    "                    yield (Vec3(x, y, z), blocks[block_index])\n",
    "                    block_index += 1"
   ]
  },
  {
   "cell_type": "code",
   "execution_count": null,
   "metadata": {
    "collapsed": false,
    "slideshow": {
     "slide_type": "slide"
    }
   },
   "outputs": [],
   "source": [
    "# 04_safe_walk_faster_platform.py\n",
    "from base_command import BaseCommand\n",
    "from mcpi import block\n",
    "from mcpi.vec3 import Vec3\n",
    "\n",
    "REPLACE_BLOCKS = [block.WATER.id,\n",
    "                  block.WATER_FLOWING.id,\n",
    "                  block.WATER_STATIONARY.id,\n",
    "                  block.AIR.id]\n",
    "\n",
    "\n",
    "########################################################################\n",
    "class Mod(BaseCommand):\n",
    "    heart_beat_rate = 0.05\n",
    "\n",
    "    ####################################################################\n",
    "    def on_heart_beat(self):\n",
    "        pos = self.player.getTilePos()\n",
    "        blocks = self.get_blocks(Vec3(pos.x-1,\n",
    "                                      pos.y-2,\n",
    "                                      pos.z-1),\n",
    "                                 Vec3(pos.x+1,\n",
    "                                      pos.y-1,\n",
    "                                      pos.z+1))\n",
    "        for p, b in blocks:\n",
    "            if b in REPLACE_BLOCKS:\n",
    "                self.set_block(p, block.ICE.id)\n",
    "\n",
    "########################################################################\n",
    "if __name__ == \"__main__\":\n",
    "    Mod().run()\n"
   ]
  },
  {
   "cell_type": "markdown",
   "metadata": {
    "slideshow": {
     "slide_type": "slide"
    }
   },
   "source": [
    "### Safe Walk continued (05_safe_walk_faster_platform.py)"
   ]
  },
  {
   "cell_type": "code",
   "execution_count": null,
   "metadata": {
    "collapsed": true,
    "slideshow": {
     "slide_type": "fragment"
    }
   },
   "outputs": [],
   "source": [
    "from base_command import BaseCommand\n",
    "from mcpi import block\n",
    "from mcpi.vec3 import Vec3\n",
    "\n",
    "REPLACE_BLOCKS = [block.WATER.id,\n",
    "                  block.WATER_FLOWING.id,\n",
    "                  block.WATER_STATIONARY.id,\n",
    "                  block.AIR.id]\n",
    "\n",
    "########################################################################\n",
    "class Mod(BaseCommand):\n",
    "    heart_beat_rate = 0.05\n",
    "\n",
    "    ####################################################################\n",
    "    def __init__(self):\n",
    "        super(Mod, self).__init__()\n",
    "        self.old_ice_blocks = set()\n",
    "\n",
    "    ####################################################################\n",
    "    def on_heart_beat(self):\n",
    "        pos = self.player.getTilePos()\n",
    "        for p, b in self.old_ice_blocks.copy():\n",
    "            if p.y >= pos.y or (pos - p).length() > 4:\n",
    "                self.set_block(p, b)\n",
    "                self.old_ice_blocks.remove((p, b))\n",
    "\n",
    "        blocks = self.get_blocks(Vec3(pos.x-2,\n",
    "                                      pos.y-2,\n",
    "                                      pos.z-2),\n",
    "                                 Vec3(pos.x+2,\n",
    "                                      pos.y-1,\n",
    "                                      pos.z+2))\n",
    "        for p, b in blocks:\n",
    "            if b in REPLACE_BLOCKS:\n",
    "                self.old_ice_blocks.add((p, b))\n",
    "                self.set_block(p, block.ICE.id)\n",
    "\n",
    "\n",
    "########################################################################\n",
    "if __name__ == \"__main__\":\n",
    "    Mod().run()"
   ]
  },
  {
   "cell_type": "markdown",
   "metadata": {
    "slideshow": {
     "slide_type": "slide"
    }
   },
   "source": [
    "### Skating Rink (06_skating_rink.py)"
   ]
  },
  {
   "cell_type": "code",
   "execution_count": null,
   "metadata": {
    "collapsed": true,
    "slideshow": {
     "slide_type": "fragment"
    }
   },
   "outputs": [],
   "source": [
    "from base_command import BaseCommand\n",
    "from mcpi import block\n",
    "from mcpi.vec3 import Vec3\n",
    "\n",
    "REPLACE_BLOCKS = [block.WATER.id,\n",
    "                  block.WATER_FLOWING.id,\n",
    "                  block.WATER_STATIONARY.id,\n",
    "                  block.ICE.id]\n",
    "\n",
    "RANGE = 5\n",
    "\n",
    "########################################################################\n",
    "class Mod(BaseCommand):\n",
    "    ####################################################################\n",
    "    def once(self):\n",
    "        self.replaced = set()\n",
    "        self.to_replace = set()\n",
    "        pos = self.player.getTilePos()\n",
    "\n",
    "        blocks = self.get_blocks(Vec3(pos.x-RANGE,\n",
    "                                      pos.y-1,\n",
    "                                      pos.z-RANGE),\n",
    "                                 Vec3(pos.x+RANGE,\n",
    "                                      pos.y-1,\n",
    "                                      pos.z+RANGE))\n",
    "        for p, b in blocks:\n",
    "            if b in REPLACE_BLOCKS:\n",
    "                self.to_replace.add(p)\n",
    "        self.make_rink()\n",
    "\n",
    "    ####################################################################\n",
    "    def make_rink(self):\n",
    "        while len(self.to_replace) > 0:\n",
    "            pos = self.to_replace.pop()\n",
    "            print \"replacing block at\", pos\n",
    "            self.set_block(pos, block.ICE.id)\n",
    "            self.replaced.add(pos)\n",
    "\n",
    "            # check all neighbors\n",
    "            for x in [-1, 0, 1]:\n",
    "                for z in [-1, 0, 1]:\n",
    "                    if x == z == 0:\n",
    "                        continue\n",
    "                    new_pos = Vec3(pos.x+x,\n",
    "                                   pos.y,\n",
    "                                   pos.z+z)\n",
    "                    if new_pos in self.replaced or new_pos in self.to_replace:\n",
    "                        continue\n",
    "                    b = self.get_block(new_pos)\n",
    "                    if b in REPLACE_BLOCKS:\n",
    "                        self.to_replace.add(new_pos)\n",
    "\n",
    "########################################################################\n",
    "if __name__ == \"__main__\":\n",
    "    Mod().once()"
   ]
  }
 ],
 "metadata": {
  "celltoolbar": "Slideshow",
  "kernelspec": {
   "display_name": "Python 2",
   "language": "python",
   "name": "python2"
  },
  "language_info": {
   "codemirror_mode": {
    "name": "ipython",
    "version": 2
   },
   "file_extension": ".py",
   "mimetype": "text/x-python",
   "name": "python",
   "nbconvert_exporter": "python",
   "pygments_lexer": "ipython2",
   "version": "2.7.6"
  }
 },
 "nbformat": 4,
 "nbformat_minor": 0
}
